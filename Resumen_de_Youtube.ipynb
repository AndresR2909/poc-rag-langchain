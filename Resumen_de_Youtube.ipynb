{
 "cells": [
  {
   "cell_type": "code",
   "execution_count": null,
   "id": "1991adca",
   "metadata": {},
   "outputs": [],
   "source": [
    "pip install --quiet langchain langchain-openai youtube-transcript-api pytube"
   ]
  },
  {
   "cell_type": "markdown",
   "id": "46d7ada1",
   "metadata": {},
   "source": [
    "## Importar librerias"
   ]
  },
  {
   "cell_type": "code",
   "execution_count": 103,
   "id": "c6d790c8",
   "metadata": {},
   "outputs": [],
   "source": [
    "from langchain.document_loaders import YoutubeLoader\n",
    "#from langchain.llms import AzureOpenAI\n",
    "from langchain.chains.summarize import load_summarize_chain\n",
    "from langchain.text_splitter import RecursiveCharacterTextSplitter\n",
    "from langchain import PromptTemplate\n",
    "from langchain_openai import AzureChatOpenAI\n",
    "\n",
    "import os\n",
    "from dotenv import load_dotenv, find_dotenv\n",
    "_ = load_dotenv(find_dotenv()) \n"
   ]
  },
  {
   "cell_type": "markdown",
   "id": "dd9e2fc8",
   "metadata": {},
   "source": [
    "## cargar variables de ambiente"
   ]
  },
  {
   "cell_type": "code",
   "execution_count": 105,
   "id": "29559186",
   "metadata": {},
   "outputs": [],
   "source": [
    "api_key=os.getenv(\"AZURE_OPENAI_API_KEY\"),  \n",
    "api_version=\"2024-02-01\",\n",
    "azure_endpoint = os.getenv(\"AZURE_OPENAI_ENDPOINT\")\n",
    "deployment_name= os.getenv(\"AZURE_DEPLOYMENT_GPT35\")    \n",
    "api_key = os.getenv(\"OPENAI_API_KEY\")\n"
   ]
  },
  {
   "cell_type": "markdown",
   "id": "35d99ab2",
   "metadata": {},
   "source": [
    "## Parametros"
   ]
  },
  {
   "cell_type": "code",
   "execution_count": 87,
   "id": "dc61f23b",
   "metadata": {},
   "outputs": [],
   "source": [
    "video_url = 'https://www.youtube.com/watch?v=XCJzOSyLCIo'"
   ]
  },
  {
   "cell_type": "markdown",
   "id": "fe6d9019",
   "metadata": {},
   "source": [
    "# Videos Cortos"
   ]
  },
  {
   "cell_type": "code",
   "execution_count": 88,
   "id": "79325c66",
   "metadata": {},
   "outputs": [],
   "source": [
    "loader = YoutubeLoader.from_youtube_url(video_url, \n",
    "                                        add_video_info=True, language = [\"es\",\"en\"])"
   ]
  },
  {
   "cell_type": "code",
   "execution_count": 89,
   "id": "81791836",
   "metadata": {},
   "outputs": [],
   "source": [
    "transcripcion = loader.load()"
   ]
  },
  {
   "cell_type": "code",
   "execution_count": 90,
   "id": "0033ab21",
   "metadata": {},
   "outputs": [
    {
     "name": "stdout",
     "output_type": "stream",
     "text": [
      "[Document(page_content='Saludos cordiales Pues mira arrancamos otra jornada más encontrando artículos como este por ejemplo que aparece en investing Pero lo podemos encontrar Pues en todas las web financieras que tengan algo que ver con las criptomonedas podemos encontrar titulares de este tipo mientras en realidad bitcoin no se ha movido de un Rango de precios vamos a ponerlo en la serie diaria nosotros lo tenemos aquí el mapa de la semana en realidad no se ha movido del Rango entre los 7278 y los 6761 donde frenó en el día de ayer Bueno te digo esto porque por ejemplo aquí nos avisan que tengamos cuidado con el halvin porque genera una volatilidad que es previa a este evento y esto es bueno es interesante que nos adviertan porque no se nos había pasado ni por la cabeza de que pudiese ocurrir volatilidad antes del halvin verdad y además en el en este artículo voy a buscar uno solamente porque para entretenernos todo esto está muy bien pero igual nos despistando para poder negociar mira en este con este gráfico el el señor que ha escrito est artículo el analista dice que eh cada día eh vemos que los inversionistas a largo plazo y los define como aquellos que suelen mantener sus bitcoins durante al menos 6 meses Mira esta aseveración en realidad la hace Fernando Pereira que es analista de B pues eh de este exchange Y entonces define como aquellos que mantienen al menos 6 meses su bitcoin 6 meses es corto plazo largo plazo sería a partir de un año o año y medio pero aquí cada uno tiene su baremo verdad pero más o menos en el mercado es consenso general que 6 meses es una inversión de corto plazo y después ya entre 6 meses un año incluso podría ser algo más de un año estamos hablando de mediano plazo y a largo plazo es un año dos 3 c y después muy largo plazo Pero bueno este exchange este analista de este exchange lo Define así como que sus inversores al menos mantienen 6 meses Bueno pues dice viendo esta gráfica que están saliendo del mercado y que eso es una señal inequívoca de toma de ganancias que precede a las caídas más significativas bien Nosotros ya sabíamos que se estaban tomando ganancia de he yo estamos en ese momento de distribución y que también se está eh se está acumulando en su opinión el halvin de abril debería aumentar las restricciones de suministro de bitcoin bueno porque dice que el señala que los precios promedios se han ido manteniendo estables recientemente en fin bien todo esto está muy interesante podemos arrancar la jornada con este tipo de situaciones estamos viendo Pues también ahí una una métrica en este caso de glasnow que nos va advirtiendo en el contado pues con una media de los siete últimos de 7 días lo que ha ido sucediendo en diferentes momentos en la cotización de bitcoin según los los eventos Mira Pero por otro lado las preocupaciones que tenemos en los mercados en las bolsas incluido en bitcoin y en ethereum Es que ayer se conoció el dato de la inflación de Estados Unidos que salió algo más elevada de lo que se esperaba y eso no es bueno y después más tarde el señor Powell iba a leer los acuerdos a los que llegaron en el en la última reunión finales del mes de marzo es decir la el acta de esa reunión de de la Fed y como estás viendo como publiqué en en el tweet en el Twitter o en x desconfianza en la Fed no carta mantener tasas altas e por más tiempo en fin no no tenemos muy claro cómo va a terminar ocurriendo la situación pero yo creo que ya a lo mejor es que nos nos vengamos a ver los análisis técnicos porque como veremos más tarde también en bolsas hoy Mira la fuerte caída que imprimió el mercado al sp500 al nasdaq al dow Jones al iex Bueno al eurostock no le afectó excesivamente tuvo bastante volatilidad incluso hasta el hasta el oro y así que vamos a arrancar este análisis para bitcoin hoy que es jueves 11 de abril en este momento estamos a las 88:25 7:25 de Canarias eh Y a las 2:25 de la madrugada en Nueva York yo como tónica general lo hago justo mi mi procedimiento de trabajo es diferente al al justo al contrario del que acabo de hacer o el que estoy haciendo los últimos días que primero te leo unas noticias y después hacemos el análisis técnico yo primero me centro en en to los datos fundamentales y los aspectos técnicos miro cómo están los gráficos Busco esos datos fundamentales en en los mercados que vaya a analizar tengo toda mi situación muy clara tomo mis decisiones lo apunto En mi en mi libreta de negociación y después ya una vez todo este panorama está construido lo tengo claro tengo las decisiones tomadas Enton Entonces es cuando pues tomándome un café desayunando en fin lo que sea entonces es cuando empiezo a leer la prensa digital ver lo que dicen en Pues en en esos esos artículos para que no me afecte porque Claro si no te condiciona Y ese es el problema Incluso si tú arrancas la jornada lo primero que hace es viendo el análisis lógicamente el cesgo que yo pueda tener neutral alcista o bajista o cualquier otro análisis que vea pues va a ser el sesgo que te pueda te pueda marcar a ti también la jornada no por eso intento ser como dice la ahí en el gráfico lo más neutral posible intento leert Elo eh verte ver contigo Dónde está el precio que está haciendo con la acción del precio con niveles calculados te doy todos los datos para que tú puedas tomar t propias Decisiones Con tu visión de Mercado es decir que tú veas el mercado pero a la pregunta de pero compro o vendo No eso te lo tienes que preguntar Tú mismo filosofía de siempre aprender a pescar y que no te den ni siquiera que te vendan el pescado ayer vi varios comentarios que preguntaban que si tengo un una un grupo VIP privado donde yo cuente cosas y de Señales llevo todos estos años diciendo que no que todo es público todo es gratuito todos los análisis no tengo ningún grupo ni en Twitter ni en Telegram ni ni hago vídeos aquí con con suscriptores independientes No No Y si te encuentras algo ese no soy yo estamos viendo la serie diaria Entonces nos podemos plantear Cómo ha ido la semana desde que arrancó el pasado lunes verdad el lunes bueno rompió la directriz bajista de máximos decrecientes todavía no la ha cambiado falta un si hoy no supera ese máximo Pues mañana veremos aquí un triangulito rojo encima de la vela del 8 de abril pero falta todavía 1 dos TR nos falta al menos uno o dos días Tenemos que tener cco días para que digamos que en una semana relativa no una semana de lunes a viernes sino una semana relativa de miércoles a por ejemplo estos lunes pues e una semana relativa sería de lunes a lunes porque el sábado y el domingo no se no se negociaría en el caso de bitcoin Pues sí también se negocia entonces seguimos hablando aún así de una semana relativa de 5 días Si no hay ningún máximo pues entonces esto pasaría aquí arriba esa directriz pero en principio se rompió y con lo mismo que se rompió ya estás viendo e y de hecho se veía ayer y antes de ayer en niveles intr diarios Cómo actuaba esta directriz bajista no pero importante son dos aquí 000 y 6 7613 no ha tropezado con los 67000 ni siquiera tocó los 67000 no es verdad que haya tropezado ha llegado a los 6761 en el día de ayer y si nosotros bajamos a la serie horaria como te mostré en el último análisis de la jornada de ayer miércoles con la pantalla interactiva en cuanto llegó e y tocó los 6761 aquí junto con los niveles intr diarios que teníamos en el día de ayer Vamos a darle un poquito para atrás y así lo vemos al tiempo ahí está ahí salen los niveles 6777 718 y los 13 Pues eran los dos precios donde podía aparecer esa liquidez incluso cuando bajamos a 5 minutos así lo observamos verdad eso era lo importante de ese cálculo Bueno pues las cosas están funcionando ahora vamos a ver en el el día de hoy porque Bueno desde Europa Sí vamos a conocer la decisión de tipos de interés desde el Banco Central europeo que esperemos que ya sea la última vez que no se toquen y que ya a partir de la semana que viene salir de la sala de espera y llegar hasta Esto entonces bueno la semana va de esta manera vamos a a ver dónde está el precio que está haciendo la semana está así rebotando en los $9,000 no se ha movido los máximos siguen siendo decrecientes en semanal aquí ha habido un 18 de corrección y estamos esperando a ver si la corrección va a acabar con ese porcentaje o si nuevamente volvemos a ver caar el precio y vaya a buscar liquidez a los 56750 Entonces será cuando nos pueden decir que ha tropezado con los 56,000 aquí ya en la serie diaria sabemos En dónde nos estamos moviendo nuestro mapa alcista se completó los dos primeros el tercero como estaba alejado y pues tiene que entrar mucha liquidez ya rápidamente porque estamos a jueves pues fin de semana sabes que normalmente no hay esa liquidez como para que el precio rompa hacia los 76,000 nosotros mantuvimos estos dos objetivos aquel como era más alejado lo dejamos en en bastante duda dijimos Bueno si se llega kis y el precio empieza a apoyarse en los 72700 entonces hablaremos del tercero si no estamos ahora mismo en esa zona neutral saliendo un poco de ella y por la parte de abajo tenemos por si vuelve el precio a los 6761 y los pierde Entonces el primer y el segundo objetivo de la semana pero tal y como va verdad parece que vamos a seguirnos manteniendo en esta zona y ha cerramos de acumulación y de distribución y las distribuciones todavía no han acabado digo que no han acabado porque siguen apareciendo fuertes días de distribución como el del martes bien y el de hoy pues veremos a ver una vez abra Wall Street que ahí es cuando veremos el verdadero sentimiento del mercado de lo que aconteció en el día de ayer con esas actas de la Fed y ese dato de inflación será cuando abra Wall Street que es cuando más volatilidad más liquidez entra en todos los mercados incluido bitcoin vale bueno la serie de horas para buscar pistas seguimos con ese escenario de fase eh de fase creciente de fase alcista han trasladado la presión fíjate có han ido trasladando la presión en estos días pues desde los 67278 la trasladaron al siguiente a los 68000 133 desde ahí a los 69000 y ahora desde los 69000 Aquí también tenemos otro nivel de 4 horas el 61 80 de esa corrección 70392 Por cierto vi también un comentario eh yo voy contestando los vídeos como esto puede ser una duda que si los que son nuevos en el canal llegan y dicen Pues estebana está haciendo esto mal tira los niveles e de tal forma de que el 6180 queda por encima cuando tendría que quedar por debajo y y no en realidad lo que hacemos es una técnica Esto no es no estamos hablando de retroceso fibonaccis estamos hablando de calcular dónde cae el 50% de una fase donde cae el 100% por lo tanto entre el 50 y el 100 tiene que quedar el 6180 eso Es evidente el c está abajo el 100 está arriba el Y entonces el 125 que sería este objetivo y así calculamos objetivos vale bien Bueno pues la presión ha pasado los 70392 en las últimas 12 horas como puedes ver qué es este nivel el 8120 de esa corrección arriba el 100 un poquito más abajo el 8120 si aquí sigue apareciendo liquidez eso podría proporcionar que el precio subiera entonces en intradiario en la jornada hasta aquí vamos a ver con niveles intr diarios promedios de cada día Qué posibilidades hay ya vemos que la primera hora se negoció 70,36 y aquí apareció esa liquidez doble nivel bueno el Eje Central en los 70600 38 todo lo que sea estar por encima de este nivel Que aparezca liquidez negociaría niveles alcistas objetivos alcistas 71 344 698 y el último 7215 Vale entonces si aparece liquidez podríamos ver que sigue creciendo el precio Hasta que llegue aquí y eso conllevaría volver a los 7183 Refugio de mediano plazo y que ahí al llegar estamos hablando de este primer Ob activo alcista volviese a aparecer presión bajista es decir que se vendieran están negociando en intradiario y durante la semana y volvieran a vender vale bueno tenemos que tener presente ese escenario otra cosa es que lo dejen ahí refugiado para que aparezca liquidez mañana y acabamos ya para no enrollar noos demasiado niveles intradiarias los puedes ir mirando 368 etcétera y el último 69,22 este atraería a través al precio justo por debajo de la directriz bajista y al 6180 es decir acabas de ver un mapa intradiario para negociar para tomar tu determinación si lo quieres hacer con esta volatilidad que hay queé llevaría el precio por un lado en caso de que se distribuya 69,000 y que en el caso de que aparezca esa liquidez desde la apertura de la jornada aquí pongamos que llega a los 7183 y aparece esa presión bajista y venden Y entonces podíamos volver caer el precio Hasta los 69,000 Bueno dale una vuelta a todo esto ethereum míralo pegado exactamente en la serie diaria a ese tercer objetivo de toda esta fase de subida 3567 y medio mira aquí al lado que está en 3570 Fíjate cómo está funcionando si logra seguir rompiéndolo Que aparezca liquidez 3700 17.9 es el objetivo miramos con niveles intradiario ya directamente vale a ver qué puede pasar centro esje Central de operaciones 3546 y el último 3617 fíjate como están negociando 3564 vale el antepenúltimo y por la parte de abajo habría hasta 3475 que lo atraería entonces nuevamente a esta zona Vale pues así está etherium hoy nos encontramos en el Canal de bolsas hoy si quieres ahí vuelvo a ver a bitcoin y actualizo la información junto con toda la bolsa acciones etcétera También aspectos fundamentales te deseo que tengas una gran jornada Vámonos a desayunar que ya es hora no sea la hora que tú estás viendo el vídeo lo que te vayas a tomar sea un mate sea sea un desayuno un aperitivo o estés almorzando lo que sea lo que s deseo es que todo sea la próxima vez que nos encontremos más y mejor', metadata={'source': 'XCJzOSyLCIo', 'title': 'QUÉ HARÁ BITCOIN HOY 11/4/24 08:20 ANÁLISIS TÉCNICO BTC-ETH Esteban Pérez', 'description': 'Unknown', 'view_count': 6378, 'thumbnail_url': 'https://i.ytimg.com/vi/XCJzOSyLCIo/hq720.jpg', 'publish_date': '2024-04-10 00:00:00', 'length': 1054, 'author': 'Bitcoin hoy'})]\n"
     ]
    }
   ],
   "source": [
    "print(transcripcion)"
   ]
  },
  {
   "cell_type": "code",
   "execution_count": 91,
   "id": "dfcaef66",
   "metadata": {},
   "outputs": [
    {
     "name": "stdout",
     "output_type": "stream",
     "text": [
      "Video de: Bitcoin hoy con un tamaño de 1054 segundos\n",
      "Título: QUÉ HARÁ BITCOIN HOY 11/4/24 08:20 ANÁLISIS TÉCNICO BTC-ETH Esteban Pérez\n",
      "\n",
      "Saludos cordiales Pues mira arrancamos otra jornada más encontrando artículos como este por ejemplo que aparece en investing Pero lo podemos encontrar Pues en todas las web financieras que tengan algo que ver con las criptomonedas podemos encontrar titulares de este tipo mientras en realidad bitcoin no se ha movido de un Rango de precios vamos a ponerlo en la serie diaria nosotros lo tenemos aquí el mapa de la semana en realidad no se ha movido del Rango entre los 7278 y los 6761 donde frenó en el día de ayer Bueno te digo esto porque por ejemplo aquí nos avisan que tengamos cuidado con el halvin porque genera una volatilidad que es previa a este evento y esto es bueno es interesante que nos adviertan porque no se nos había pasado ni por la cabeza de que pudiese ocurrir volatilidad antes del halvin verdad y además en el en este artículo voy a buscar uno solamente porque para entretenernos todo esto está muy bien pero igual nos despistando para poder negociar mira en este con este gráfico el el señor que ha escrito est artículo el analista dice que eh cada día eh vemos que los inversionistas a largo plazo y los define como aquellos que suelen mantener sus bitcoins durante al menos 6 meses Mira esta aseveración en realidad la hace Fernando Pereira que es analista de B pues eh de este exchange Y entonces define como aquellos que mantienen al menos 6 meses su bitcoin 6 meses es corto plazo largo plazo sería a partir de un año o año y medio pero aquí cada uno tiene su baremo verdad pero más o menos en el mercado es consenso general que 6 meses es una inversión de corto plazo y después ya entre 6 meses un año incluso podría ser algo más de un año estamos hablando de mediano plazo y a largo plazo es un año dos 3 c y después muy largo plazo Pero bueno este exchange este analista de este exchange lo Define así como que sus inversores al menos mantienen 6 meses Bueno pues dice viendo esta gráfica que están saliendo del mercado y que eso es una señal inequívoca de toma de ganancias que precede a las caídas más significativas bien Nosotros ya sabíamos que se estaban tomando ganancia de he yo estamos en ese momento de distribución y que también se está eh se está acumulando en su opinión el halvin de abril debería aumentar las restricciones de suministro de bitcoin bueno porque dice que el señala que los precios promedios se han ido manteniendo estables recientemente en fin bien todo esto está muy interesante podemos arrancar la jornada con este tipo de situaciones estamos viendo Pues también ahí una una métrica en este caso de glasnow que nos va advirtiendo en el contado pues con una media de los siete últimos de 7 días lo que ha ido sucediendo en diferentes momentos en la cotización de bitcoin según los los eventos Mira Pero por otro lado las preocupaciones que tenemos en los mercados en las bolsas incluido en bitcoin y en ethereum Es que ayer se conoció el dato de la inflación de Estados Unidos que salió algo más elevada de lo que se esperaba y eso no es bueno y después más tarde el señor Powell iba a leer los acuerdos a los que llegaron en el en la última reunión finales del mes de marzo es decir la el acta de esa reunión de de la Fed y como estás viendo como publiqué en en el tweet en el Twitter o en x desconfianza en la Fed no carta mantener tasas altas e por más tiempo en fin no no tenemos muy claro cómo va a terminar ocurriendo la situación pero yo creo que ya a lo mejor es que nos nos vengamos a ver los análisis técnicos porque como veremos más tarde también en bolsas hoy Mira la fuerte caída que imprimió el mercado al sp500 al nasdaq al dow Jones al iex Bueno al eurostock no le afectó excesivamente tuvo bastante volatilidad incluso hasta el hasta el oro y así que vamos a arrancar este análisis para bitcoin hoy que es jueves 11 de abril en este momento estamos a las 88:25 7:25 de Canarias eh Y a las 2:25 de la madrugada en Nueva York yo como tónica general lo hago justo mi mi procedimiento de trabajo es diferente al al justo al contrario del que acabo de hacer o el que estoy haciendo los últimos días que primero te leo unas noticias y después hacemos el análisis técnico yo primero me centro en en to los datos fundamentales y los aspectos técnicos miro cómo están los gráficos Busco esos datos fundamentales en en los mercados que vaya a analizar tengo toda mi situación muy clara tomo mis decisiones lo apunto En mi en mi libreta de negociación y después ya una vez todo este panorama está construido lo tengo claro tengo las decisiones tomadas Enton Entonces es cuando pues tomándome un café desayunando en fin lo que sea entonces es cuando empiezo a leer la prensa digital ver lo que dicen en Pues en en esos esos artículos para que no me afecte porque Claro si no te condiciona Y ese es el problema Incluso si tú arrancas la jornada lo primero que hace es viendo el análisis lógicamente el cesgo que yo pueda tener neutral alcista o bajista o cualquier otro análisis que vea pues va a ser el sesgo que te pueda te pueda marcar a ti también la jornada no por eso intento ser como dice la ahí en el gráfico lo más neutral posible intento leert Elo eh verte ver contigo Dónde está el precio que está haciendo con la acción del precio con niveles calculados te doy todos los datos para que tú puedas tomar t propias Decisiones Con tu visión de Mercado es decir que tú veas el mercado pero a la pregunta de pero compro o vendo No eso te lo tienes que preguntar Tú mismo filosofía de siempre aprender a pescar y que no te den ni siquiera que te vendan el pescado ayer vi varios comentarios que preguntaban que si tengo un una un grupo VIP privado donde yo cuente cosas y de Señales llevo todos estos años diciendo que no que todo es público todo es gratuito todos los análisis no tengo ningún grupo ni en Twitter ni en Telegram ni ni hago vídeos aquí con con suscriptores independientes No No Y si te encuentras algo ese no soy yo estamos viendo la serie diaria Entonces nos podemos plantear Cómo ha ido la semana desde que arrancó el pasado lunes verdad el lunes bueno rompió la directriz bajista de máximos decrecientes todavía no la ha cambiado falta un si hoy no supera ese máximo Pues mañana veremos aquí un triangulito rojo encima de la vela del 8 de abril pero falta todavía 1 dos TR nos falta al menos uno o dos días Tenemos que tener cco días para que digamos que en una semana relativa no una semana de lunes a viernes sino una semana relativa de miércoles a por ejemplo estos lunes pues e una semana relativa sería de lunes a lunes porque el sábado y el domingo no se no se negociaría en el caso de bitcoin Pues sí también se negocia entonces seguimos hablando aún así de una semana relativa de 5 días Si no hay ningún máximo pues entonces esto pasaría aquí arriba esa directriz pero en principio se rompió y con lo mismo que se rompió ya estás viendo e y de hecho se veía ayer y antes de ayer en niveles intr diarios Cómo actuaba esta directriz bajista no pero importante son dos aquí 000 y 6 7613 no ha tropezado con los 67000 ni siquiera tocó los 67000 no es verdad que haya tropezado ha llegado a los 6761 en el día de ayer y si nosotros bajamos a la serie horaria como te mostré en el último análisis de la jornada de ayer miércoles con la pantalla interactiva en cuanto llegó e y tocó los 6761 aquí junto con los niveles intr diarios que teníamos en el día de ayer Vamos a darle un poquito para atrás y así lo vemos al tiempo ahí está ahí salen los niveles 6777 718 y los 13 Pues eran los dos precios donde podía aparecer esa liquidez incluso cuando bajamos a 5 minutos así lo observamos verdad eso era lo importante de ese cálculo Bueno pues las cosas están funcionando ahora vamos a ver en el el día de hoy porque Bueno desde Europa Sí vamos a conocer la decisión de tipos de interés desde el Banco Central europeo que esperemos que ya sea la última vez que no se toquen y que ya a partir de la semana que viene salir de la sala de espera y llegar hasta Esto entonces bueno la semana va de esta manera vamos a a ver dónde está el precio que está haciendo la semana está así rebotando en los $9,000 no se ha movido los máximos siguen siendo decrecientes en semanal aquí ha habido un 18 de corrección y estamos esperando a ver si la corrección va a acabar con ese porcentaje o si nuevamente volvemos a ver caar el precio y vaya a buscar liquidez a los 56750 Entonces será cuando nos pueden decir que ha tropezado con los 56,000 aquí ya en la serie diaria sabemos En dónde nos estamos moviendo nuestro mapa alcista se completó los dos primeros el tercero como estaba alejado y pues tiene que entrar mucha liquidez ya rápidamente porque estamos a jueves pues fin de semana sabes que normalmente no hay esa liquidez como para que el precio rompa hacia los 76,000 nosotros mantuvimos estos dos objetivos aquel como era más alejado lo dejamos en en bastante duda dijimos Bueno si se llega kis y el precio empieza a apoyarse en los 72700 entonces hablaremos del tercero si no estamos ahora mismo en esa zona neutral saliendo un poco de ella y por la parte de abajo tenemos por si vuelve el precio a los 6761 y los pierde Entonces el primer y el segundo objetivo de la semana pero tal y como va verdad parece que vamos a seguirnos manteniendo en esta zona y ha cerramos de acumulación y de distribución y las distribuciones todavía no han acabado digo que no han acabado porque siguen apareciendo fuertes días de distribución como el del martes bien y el de hoy pues veremos a ver una vez abra Wall Street que ahí es cuando veremos el verdadero sentimiento del mercado de lo que aconteció en el día de ayer con esas actas de la Fed y ese dato de inflación será cuando abra Wall Street que es cuando más volatilidad más liquidez entra en todos los mercados incluido bitcoin vale bueno la serie de horas para buscar pistas seguimos con ese escenario de fase eh de fase creciente de fase alcista han trasladado la presión fíjate có han ido trasladando la presión en estos días pues desde los 67278 la trasladaron al siguiente a los 68000 133 desde ahí a los 69000 y ahora desde los 69000 Aquí también tenemos otro nivel de 4 horas el 61 80 de esa corrección 70392 Por cierto vi también un comentario eh yo voy contestando los vídeos como esto puede ser una duda que si los que son nuevos en el canal llegan y dicen Pues estebana está haciendo esto mal tira los niveles e de tal forma de que el 6180 queda por encima cuando tendría que quedar por debajo y y no en realidad lo que hacemos es una técnica Esto no es no estamos hablando de retroceso fibonaccis estamos hablando de calcular dónde cae el 50% de una fase donde cae el 100% por lo tanto entre el 50 y el 100 tiene que quedar el 6180 eso Es evidente el c está abajo el 100 está arriba el Y entonces el 125 que sería este objetivo y así calculamos objetivos vale bien Bueno pues la presión ha pasado los 70392 en las últimas 12 horas como puedes ver qué es este nivel el 8120 de esa corrección arriba el 100 un poquito más abajo el 8120 si aquí sigue apareciendo liquidez eso podría proporcionar que el precio subiera entonces en intradiario en la jornada hasta aquí vamos a ver con niveles intr diarios promedios de cada día Qué posibilidades hay ya vemos que la primera hora se negoció 70,36 y aquí apareció esa liquidez doble nivel bueno el Eje Central en los 70600 38 todo lo que sea estar por encima de este nivel Que aparezca liquidez negociaría niveles alcistas objetivos alcistas 71 344 698 y el último 7215 Vale entonces si aparece liquidez podríamos ver que sigue creciendo el precio Hasta que llegue aquí y eso conllevaría volver a los 7183 Refugio de mediano plazo y que ahí al llegar estamos hablando de este primer Ob activo alcista volviese a aparecer presión bajista es decir que se vendieran están negociando en intradiario y durante la semana y volvieran a vender vale bueno tenemos que tener presente ese escenario otra cosa es que lo dejen ahí refugiado para que aparezca liquidez mañana y acabamos ya para no enrollar noos demasiado niveles intradiarias los puedes ir mirando 368 etcétera y el último 69,22 este atraería a través al precio justo por debajo de la directriz bajista y al 6180 es decir acabas de ver un mapa intradiario para negociar para tomar tu determinación si lo quieres hacer con esta volatilidad que hay queé llevaría el precio por un lado en caso de que se distribuya 69,000 y que en el caso de que aparezca esa liquidez desde la apertura de la jornada aquí pongamos que llega a los 7183 y aparece esa presión bajista y venden Y entonces podíamos volver caer el precio Hasta los 69,000 Bueno dale una vuelta a todo esto ethereum míralo pegado exactamente en la serie diaria a ese tercer objetivo de toda esta fase de subida 3567 y medio mira aquí al lado que está en 3570 Fíjate cómo está funcionando si logra seguir rompiéndolo Que aparezca liquidez 3700 17.9 es el objetivo miramos con niveles intradiario ya directamente vale a ver qué puede pasar centro esje Central de operaciones 3546 y el último 3617 fíjate como están negociando 3564 vale el antepenúltimo y por la parte de abajo habría hasta 3475 que lo atraería entonces nuevamente a esta zona Vale pues así está etherium hoy nos encontramos en el Canal de bolsas hoy si quieres ahí vuelvo a ver a bitcoin y actualizo la información junto con toda la bolsa acciones etcétera También aspectos fundamentales te deseo que tengas una gran jornada Vámonos a desayunar que ya es hora no sea la hora que tú estás viendo el vídeo lo que te vayas a tomar sea un mate sea sea un desayuno un aperitivo o estés almorzando lo que sea lo que s deseo es que todo sea la próxima vez que nos encontremos más y mejor\n"
     ]
    }
   ],
   "source": [
    "print(f\"Video de: {transcripcion[0].metadata['author']}\"+\n",
    "       f\" con un tamaño de {transcripcion[0].metadata['length']} segundos\")\n",
    "print(f\"Título: {transcripcion[0].metadata['title']}\")\n",
    "print(\"\")\n",
    "print(transcripcion[0].page_content)"
   ]
  },
  {
   "cell_type": "code",
   "execution_count": 92,
   "id": "4c167dd5",
   "metadata": {},
   "outputs": [],
   "source": [
    "llm = AzureChatOpenAI(temperature=0,deployment_name = deployment_name)"
   ]
  },
  {
   "cell_type": "code",
   "execution_count": 93,
   "id": "84cc0ec8",
   "metadata": {},
   "outputs": [
    {
     "name": "stdout",
     "output_type": "stream",
     "text": [
      "client=<openai.resources.chat.completions.Completions object at 0x000001AFC1828350> async_client=<openai.resources.chat.completions.AsyncCompletions object at 0x000001AFC1881510> temperature=0.0 openai_api_key=SecretStr('**********') openai_proxy='' azure_endpoint='https://oai-shappy-test-qa.openai.azure.com' deployment_name='gpt-35-turbo-test' openai_api_version='2023-05-15' openai_api_type='azure'\n"
     ]
    }
   ],
   "source": [
    "print(llm)"
   ]
  },
  {
   "cell_type": "code",
   "execution_count": 94,
   "id": "490937a1",
   "metadata": {},
   "outputs": [],
   "source": [
    "chain = load_summarize_chain(llm, chain_type=\"stuff\", verbose=False)"
   ]
  },
  {
   "cell_type": "code",
   "execution_count": 95,
   "id": "4576faad",
   "metadata": {},
   "outputs": [
    {
     "data": {
      "text/plain": [
       "{'input_documents': [Document(page_content='Saludos cordiales Pues mira arrancamos otra jornada más encontrando artículos como este por ejemplo que aparece en investing Pero lo podemos encontrar Pues en todas las web financieras que tengan algo que ver con las criptomonedas podemos encontrar titulares de este tipo mientras en realidad bitcoin no se ha movido de un Rango de precios vamos a ponerlo en la serie diaria nosotros lo tenemos aquí el mapa de la semana en realidad no se ha movido del Rango entre los 7278 y los 6761 donde frenó en el día de ayer Bueno te digo esto porque por ejemplo aquí nos avisan que tengamos cuidado con el halvin porque genera una volatilidad que es previa a este evento y esto es bueno es interesante que nos adviertan porque no se nos había pasado ni por la cabeza de que pudiese ocurrir volatilidad antes del halvin verdad y además en el en este artículo voy a buscar uno solamente porque para entretenernos todo esto está muy bien pero igual nos despistando para poder negociar mira en este con este gráfico el el señor que ha escrito est artículo el analista dice que eh cada día eh vemos que los inversionistas a largo plazo y los define como aquellos que suelen mantener sus bitcoins durante al menos 6 meses Mira esta aseveración en realidad la hace Fernando Pereira que es analista de B pues eh de este exchange Y entonces define como aquellos que mantienen al menos 6 meses su bitcoin 6 meses es corto plazo largo plazo sería a partir de un año o año y medio pero aquí cada uno tiene su baremo verdad pero más o menos en el mercado es consenso general que 6 meses es una inversión de corto plazo y después ya entre 6 meses un año incluso podría ser algo más de un año estamos hablando de mediano plazo y a largo plazo es un año dos 3 c y después muy largo plazo Pero bueno este exchange este analista de este exchange lo Define así como que sus inversores al menos mantienen 6 meses Bueno pues dice viendo esta gráfica que están saliendo del mercado y que eso es una señal inequívoca de toma de ganancias que precede a las caídas más significativas bien Nosotros ya sabíamos que se estaban tomando ganancia de he yo estamos en ese momento de distribución y que también se está eh se está acumulando en su opinión el halvin de abril debería aumentar las restricciones de suministro de bitcoin bueno porque dice que el señala que los precios promedios se han ido manteniendo estables recientemente en fin bien todo esto está muy interesante podemos arrancar la jornada con este tipo de situaciones estamos viendo Pues también ahí una una métrica en este caso de glasnow que nos va advirtiendo en el contado pues con una media de los siete últimos de 7 días lo que ha ido sucediendo en diferentes momentos en la cotización de bitcoin según los los eventos Mira Pero por otro lado las preocupaciones que tenemos en los mercados en las bolsas incluido en bitcoin y en ethereum Es que ayer se conoció el dato de la inflación de Estados Unidos que salió algo más elevada de lo que se esperaba y eso no es bueno y después más tarde el señor Powell iba a leer los acuerdos a los que llegaron en el en la última reunión finales del mes de marzo es decir la el acta de esa reunión de de la Fed y como estás viendo como publiqué en en el tweet en el Twitter o en x desconfianza en la Fed no carta mantener tasas altas e por más tiempo en fin no no tenemos muy claro cómo va a terminar ocurriendo la situación pero yo creo que ya a lo mejor es que nos nos vengamos a ver los análisis técnicos porque como veremos más tarde también en bolsas hoy Mira la fuerte caída que imprimió el mercado al sp500 al nasdaq al dow Jones al iex Bueno al eurostock no le afectó excesivamente tuvo bastante volatilidad incluso hasta el hasta el oro y así que vamos a arrancar este análisis para bitcoin hoy que es jueves 11 de abril en este momento estamos a las 88:25 7:25 de Canarias eh Y a las 2:25 de la madrugada en Nueva York yo como tónica general lo hago justo mi mi procedimiento de trabajo es diferente al al justo al contrario del que acabo de hacer o el que estoy haciendo los últimos días que primero te leo unas noticias y después hacemos el análisis técnico yo primero me centro en en to los datos fundamentales y los aspectos técnicos miro cómo están los gráficos Busco esos datos fundamentales en en los mercados que vaya a analizar tengo toda mi situación muy clara tomo mis decisiones lo apunto En mi en mi libreta de negociación y después ya una vez todo este panorama está construido lo tengo claro tengo las decisiones tomadas Enton Entonces es cuando pues tomándome un café desayunando en fin lo que sea entonces es cuando empiezo a leer la prensa digital ver lo que dicen en Pues en en esos esos artículos para que no me afecte porque Claro si no te condiciona Y ese es el problema Incluso si tú arrancas la jornada lo primero que hace es viendo el análisis lógicamente el cesgo que yo pueda tener neutral alcista o bajista o cualquier otro análisis que vea pues va a ser el sesgo que te pueda te pueda marcar a ti también la jornada no por eso intento ser como dice la ahí en el gráfico lo más neutral posible intento leert Elo eh verte ver contigo Dónde está el precio que está haciendo con la acción del precio con niveles calculados te doy todos los datos para que tú puedas tomar t propias Decisiones Con tu visión de Mercado es decir que tú veas el mercado pero a la pregunta de pero compro o vendo No eso te lo tienes que preguntar Tú mismo filosofía de siempre aprender a pescar y que no te den ni siquiera que te vendan el pescado ayer vi varios comentarios que preguntaban que si tengo un una un grupo VIP privado donde yo cuente cosas y de Señales llevo todos estos años diciendo que no que todo es público todo es gratuito todos los análisis no tengo ningún grupo ni en Twitter ni en Telegram ni ni hago vídeos aquí con con suscriptores independientes No No Y si te encuentras algo ese no soy yo estamos viendo la serie diaria Entonces nos podemos plantear Cómo ha ido la semana desde que arrancó el pasado lunes verdad el lunes bueno rompió la directriz bajista de máximos decrecientes todavía no la ha cambiado falta un si hoy no supera ese máximo Pues mañana veremos aquí un triangulito rojo encima de la vela del 8 de abril pero falta todavía 1 dos TR nos falta al menos uno o dos días Tenemos que tener cco días para que digamos que en una semana relativa no una semana de lunes a viernes sino una semana relativa de miércoles a por ejemplo estos lunes pues e una semana relativa sería de lunes a lunes porque el sábado y el domingo no se no se negociaría en el caso de bitcoin Pues sí también se negocia entonces seguimos hablando aún así de una semana relativa de 5 días Si no hay ningún máximo pues entonces esto pasaría aquí arriba esa directriz pero en principio se rompió y con lo mismo que se rompió ya estás viendo e y de hecho se veía ayer y antes de ayer en niveles intr diarios Cómo actuaba esta directriz bajista no pero importante son dos aquí 000 y 6 7613 no ha tropezado con los 67000 ni siquiera tocó los 67000 no es verdad que haya tropezado ha llegado a los 6761 en el día de ayer y si nosotros bajamos a la serie horaria como te mostré en el último análisis de la jornada de ayer miércoles con la pantalla interactiva en cuanto llegó e y tocó los 6761 aquí junto con los niveles intr diarios que teníamos en el día de ayer Vamos a darle un poquito para atrás y así lo vemos al tiempo ahí está ahí salen los niveles 6777 718 y los 13 Pues eran los dos precios donde podía aparecer esa liquidez incluso cuando bajamos a 5 minutos así lo observamos verdad eso era lo importante de ese cálculo Bueno pues las cosas están funcionando ahora vamos a ver en el el día de hoy porque Bueno desde Europa Sí vamos a conocer la decisión de tipos de interés desde el Banco Central europeo que esperemos que ya sea la última vez que no se toquen y que ya a partir de la semana que viene salir de la sala de espera y llegar hasta Esto entonces bueno la semana va de esta manera vamos a a ver dónde está el precio que está haciendo la semana está así rebotando en los $9,000 no se ha movido los máximos siguen siendo decrecientes en semanal aquí ha habido un 18 de corrección y estamos esperando a ver si la corrección va a acabar con ese porcentaje o si nuevamente volvemos a ver caar el precio y vaya a buscar liquidez a los 56750 Entonces será cuando nos pueden decir que ha tropezado con los 56,000 aquí ya en la serie diaria sabemos En dónde nos estamos moviendo nuestro mapa alcista se completó los dos primeros el tercero como estaba alejado y pues tiene que entrar mucha liquidez ya rápidamente porque estamos a jueves pues fin de semana sabes que normalmente no hay esa liquidez como para que el precio rompa hacia los 76,000 nosotros mantuvimos estos dos objetivos aquel como era más alejado lo dejamos en en bastante duda dijimos Bueno si se llega kis y el precio empieza a apoyarse en los 72700 entonces hablaremos del tercero si no estamos ahora mismo en esa zona neutral saliendo un poco de ella y por la parte de abajo tenemos por si vuelve el precio a los 6761 y los pierde Entonces el primer y el segundo objetivo de la semana pero tal y como va verdad parece que vamos a seguirnos manteniendo en esta zona y ha cerramos de acumulación y de distribución y las distribuciones todavía no han acabado digo que no han acabado porque siguen apareciendo fuertes días de distribución como el del martes bien y el de hoy pues veremos a ver una vez abra Wall Street que ahí es cuando veremos el verdadero sentimiento del mercado de lo que aconteció en el día de ayer con esas actas de la Fed y ese dato de inflación será cuando abra Wall Street que es cuando más volatilidad más liquidez entra en todos los mercados incluido bitcoin vale bueno la serie de horas para buscar pistas seguimos con ese escenario de fase eh de fase creciente de fase alcista han trasladado la presión fíjate có han ido trasladando la presión en estos días pues desde los 67278 la trasladaron al siguiente a los 68000 133 desde ahí a los 69000 y ahora desde los 69000 Aquí también tenemos otro nivel de 4 horas el 61 80 de esa corrección 70392 Por cierto vi también un comentario eh yo voy contestando los vídeos como esto puede ser una duda que si los que son nuevos en el canal llegan y dicen Pues estebana está haciendo esto mal tira los niveles e de tal forma de que el 6180 queda por encima cuando tendría que quedar por debajo y y no en realidad lo que hacemos es una técnica Esto no es no estamos hablando de retroceso fibonaccis estamos hablando de calcular dónde cae el 50% de una fase donde cae el 100% por lo tanto entre el 50 y el 100 tiene que quedar el 6180 eso Es evidente el c está abajo el 100 está arriba el Y entonces el 125 que sería este objetivo y así calculamos objetivos vale bien Bueno pues la presión ha pasado los 70392 en las últimas 12 horas como puedes ver qué es este nivel el 8120 de esa corrección arriba el 100 un poquito más abajo el 8120 si aquí sigue apareciendo liquidez eso podría proporcionar que el precio subiera entonces en intradiario en la jornada hasta aquí vamos a ver con niveles intr diarios promedios de cada día Qué posibilidades hay ya vemos que la primera hora se negoció 70,36 y aquí apareció esa liquidez doble nivel bueno el Eje Central en los 70600 38 todo lo que sea estar por encima de este nivel Que aparezca liquidez negociaría niveles alcistas objetivos alcistas 71 344 698 y el último 7215 Vale entonces si aparece liquidez podríamos ver que sigue creciendo el precio Hasta que llegue aquí y eso conllevaría volver a los 7183 Refugio de mediano plazo y que ahí al llegar estamos hablando de este primer Ob activo alcista volviese a aparecer presión bajista es decir que se vendieran están negociando en intradiario y durante la semana y volvieran a vender vale bueno tenemos que tener presente ese escenario otra cosa es que lo dejen ahí refugiado para que aparezca liquidez mañana y acabamos ya para no enrollar noos demasiado niveles intradiarias los puedes ir mirando 368 etcétera y el último 69,22 este atraería a través al precio justo por debajo de la directriz bajista y al 6180 es decir acabas de ver un mapa intradiario para negociar para tomar tu determinación si lo quieres hacer con esta volatilidad que hay queé llevaría el precio por un lado en caso de que se distribuya 69,000 y que en el caso de que aparezca esa liquidez desde la apertura de la jornada aquí pongamos que llega a los 7183 y aparece esa presión bajista y venden Y entonces podíamos volver caer el precio Hasta los 69,000 Bueno dale una vuelta a todo esto ethereum míralo pegado exactamente en la serie diaria a ese tercer objetivo de toda esta fase de subida 3567 y medio mira aquí al lado que está en 3570 Fíjate cómo está funcionando si logra seguir rompiéndolo Que aparezca liquidez 3700 17.9 es el objetivo miramos con niveles intradiario ya directamente vale a ver qué puede pasar centro esje Central de operaciones 3546 y el último 3617 fíjate como están negociando 3564 vale el antepenúltimo y por la parte de abajo habría hasta 3475 que lo atraería entonces nuevamente a esta zona Vale pues así está etherium hoy nos encontramos en el Canal de bolsas hoy si quieres ahí vuelvo a ver a bitcoin y actualizo la información junto con toda la bolsa acciones etcétera También aspectos fundamentales te deseo que tengas una gran jornada Vámonos a desayunar que ya es hora no sea la hora que tú estás viendo el vídeo lo que te vayas a tomar sea un mate sea sea un desayuno un aperitivo o estés almorzando lo que sea lo que s deseo es que todo sea la próxima vez que nos encontremos más y mejor', metadata={'source': 'XCJzOSyLCIo', 'title': 'QUÉ HARÁ BITCOIN HOY 11/4/24 08:20 ANÁLISIS TÉCNICO BTC-ETH Esteban Pérez', 'description': 'Unknown', 'view_count': 6378, 'thumbnail_url': 'https://i.ytimg.com/vi/XCJzOSyLCIo/hq720.jpg', 'publish_date': '2024-04-10 00:00:00', 'length': 1054, 'author': 'Bitcoin hoy'})],\n",
       " 'output_text': 'The article discusses the current state of Bitcoin and its price range, as well as the potential impact of the upcoming halving event. It also mentions the concerns about inflation in the US and the decisions of the Federal Reserve. The analysis suggests that Bitcoin is in a phase of accumulation and distribution, with potential levels to watch for in the short term. Ethereum is also mentioned, with its current price and potential levels of interest. The author emphasizes the importance of considering both technical and fundamental factors when making trading decisions.'}"
      ]
     },
     "execution_count": 95,
     "metadata": {},
     "output_type": "execute_result"
    }
   ],
   "source": [
    "chain.invoke(transcripcion)"
   ]
  },
  {
   "cell_type": "markdown",
   "id": "da1e6dd9",
   "metadata": {},
   "source": [
    "# Videos Largos"
   ]
  },
  {
   "cell_type": "code",
   "execution_count": 96,
   "id": "447b4686",
   "metadata": {},
   "outputs": [],
   "source": [
    "loader = YoutubeLoader.from_youtube_url(video_url, \n",
    "                                        add_video_info=True, language = [\"es\"])"
   ]
  },
  {
   "cell_type": "code",
   "execution_count": 97,
   "id": "37f351d0",
   "metadata": {},
   "outputs": [],
   "source": [
    "transcripcion = loader.load()"
   ]
  },
  {
   "cell_type": "code",
   "execution_count": 98,
   "id": "bed4ebfe",
   "metadata": {},
   "outputs": [
    {
     "name": "stdout",
     "output_type": "stream",
     "text": [
      "Video de: Bitcoin hoy con un tamaño de 1054 segundos\n",
      "Título: QUÉ HARÁ BITCOIN HOY 11/4/24 08:20 ANÁLISIS TÉCNICO BTC-ETH Esteban Pérez\n",
      "\n",
      "Saludos cordiales Pues mira arrancamos otra jornada más encontrando artículos como este por ejemplo que aparece en investing Pero lo podemos encontrar Pues en todas las web financieras que tengan algo que ver con las criptomonedas podemos encontrar titulares de este tipo mientras en realidad bitcoin no se ha movido de un Rango de precios vamos a ponerlo en la serie diaria nosotros lo tenemos aquí el mapa de la semana en realidad no se ha movido del Rango entre los 7278 y los 6761 donde frenó en el día de ayer Bueno te digo esto porque por ejemplo aquí nos avisan que tengamos cuidado con el halvin porque genera una volatilidad que es previa a este evento y esto es bueno es interesante que nos adviertan porque no se nos había pasado ni por la cabeza de que pudiese ocurrir volatilidad antes del halvin verdad y además en el en este artículo voy a buscar uno solamente porque para entretenernos todo esto está muy bien pero igual nos despistando para poder negociar mira en este con este gráfico el el señor que ha escrito est artículo el analista dice que eh cada día eh vemos que los inversionistas a largo plazo y los define como aquellos que suelen mantener sus bitcoins durante al menos 6 meses Mira esta aseveración en realidad la hace Fernando Pereira que es analista de B pues eh de este exchange Y entonces define como aquellos que mantienen al menos 6 meses su bitcoin 6 meses es corto plazo largo plazo sería a partir de un año o año y medio pero aquí cada uno tiene su baremo verdad pero más o menos en el mercado es consenso general que 6 meses es una inversión de corto plazo y después ya entre 6 meses un año incluso podría ser algo más de un año estamos hablando de mediano plazo y a largo plazo es un año dos 3 c y después muy largo plazo Pero bueno este exchange este analista de este exchange lo Define así como que sus inversores al menos mantienen 6 meses Bueno pues dice viendo esta gráfica que están saliendo del mercado y que eso es una señal inequívoca de toma de ganancias que precede a las caídas más significativas bien Nosotros ya sabíamos que se estaban tomando ganancia de he yo estamos en ese momento de distribución y que también se está eh se está acumulando en su opinión el halvin de abril debería aumentar las restricciones de suministro de bitcoin bueno porque dice que el señala que los precios promedios se han ido manteniendo estables recientemente en fin bien todo esto está muy interesante podemos arrancar la jornada con este tipo de situaciones estamos viendo Pues también ahí una una métrica en este caso de glasnow que nos va advirtiendo en el contado pues con una media de los siete últimos de 7 días lo que ha ido sucediendo en diferentes momentos en la cotización de bitcoin según los los eventos Mira Pero por otro lado las preocupaciones que tenemos en los mercados en las bolsas incluido en bitcoin y en ethereum Es que ayer se conoció el dato de la inflación de Estados Unidos que salió algo más elevada de lo que se esperaba y eso no es bueno y después más tarde el señor Powell iba a leer los acuerdos a los que llegaron en el en la última reunión finales del mes de marzo es decir la el acta de esa reunión de de la Fed y como estás viendo como publiqué en en el tweet en el Twitter o en x desconfianza en la Fed no carta mantener tasas altas e por más tiempo en fin no no tenemos muy claro cómo va a terminar ocurriendo la situación pero yo creo que ya a lo mejor es que nos nos vengamos a ver los análisis técnicos porque como veremos más tarde también en bolsas hoy Mira la fuerte caída que imprimió el mercado al sp500 al nasdaq al dow Jones al iex Bueno al eurostock no le afectó excesivamente tuvo bastante volatilidad incluso hasta el hasta el oro y así que vamos a arrancar este análisis para bitcoin hoy que es jueves 11 de abril en este momento estamos a las 88:25 7:25 de Canarias eh Y a las 2:25 de la madrugada en Nueva York yo como tónica general lo hago justo mi mi procedimiento de trabajo es diferente al al justo al contrario del que acabo de hacer o el que estoy haciendo los últimos días que primero te leo unas noticias y después hacemos el análisis técnico yo primero me centro en en to los datos fundamentales y los aspectos técnicos miro cómo están los gráficos Busco esos datos fundamentales en en los mercados que vaya a analizar tengo toda mi situación muy clara tomo mis decisiones lo apunto En mi en mi libreta de negociación y después ya una vez todo este panorama está construido lo tengo claro tengo las decisiones tomadas Enton Entonces es cuando pues tomándome un café desayunando en fin lo que sea entonces es cuando empiezo a leer la prensa digital ver lo que dicen en Pues en en esos esos artículos para que no me afecte porque Claro si no te condiciona Y ese es el problema Incluso si tú arrancas la jornada lo primero que hace es viendo el análisis lógicamente el cesgo que yo pueda tener neutral alcista o bajista o cualquier otro análisis que vea pues va a ser el sesgo que te pueda te pueda marcar a ti también la jornada no por eso intento ser como dice la ahí en el gráfico lo más neutral posible intento leert Elo eh verte ver contigo Dónde está el precio que está haciendo con la acción del precio con niveles calculados te doy todos los datos para que tú puedas tomar t propias Decisiones Con tu visión de Mercado es decir que tú veas el mercado pero a la pregunta de pero compro o vendo No eso te lo tienes que preguntar Tú mismo filosofía de siempre aprender a pescar y que no te den ni siquiera que te vendan el pescado ayer vi varios comentarios que preguntaban que si tengo un una un grupo VIP privado donde yo cuente cosas y de Señales llevo todos estos años diciendo que no que todo es público todo es gratuito todos los análisis no tengo ningún grupo ni en Twitter ni en Telegram ni ni hago vídeos aquí con con suscriptores independientes No No Y si te encuentras algo ese no soy yo estamos viendo la serie diaria Entonces nos podemos plantear Cómo ha ido la semana desde que arrancó el pasado lunes verdad el lunes bueno rompió la directriz bajista de máximos decrecientes todavía no la ha cambiado falta un si hoy no supera ese máximo Pues mañana veremos aquí un triangulito rojo encima de la vela del 8 de abril pero falta todavía 1 dos TR nos falta al menos uno o dos días Tenemos que tener cco días para que digamos que en una semana relativa no una semana de lunes a viernes sino una semana relativa de miércoles a por ejemplo estos lunes pues e una semana relativa sería de lunes a lunes porque el sábado y el domingo no se no se negociaría en el caso de bitcoin Pues sí también se negocia entonces seguimos hablando aún así de una semana relativa de 5 días Si no hay ningún máximo pues entonces esto pasaría aquí arriba esa directriz pero en principio se rompió y con lo mismo que se rompió ya estás viendo e y de hecho se veía ayer y antes de ayer en niveles intr diarios Cómo actuaba esta directriz bajista no pero importante son dos aquí 000 y 6 7613 no ha tropezado con los 67000 ni siquiera tocó los 67000 no es verdad que haya tropezado ha llegado a los 6761 en el día de ayer y si nosotros bajamos a la serie horaria como te mostré en el último análisis de la jornada de ayer miércoles con la pantalla interactiva en cuanto llegó e y tocó los 6761 aquí junto con los niveles intr diarios que teníamos en el día de ayer Vamos a darle un poquito para atrás y así lo vemos al tiempo ahí está ahí salen los niveles 6777 718 y los 13 Pues eran los dos precios donde podía aparecer esa liquidez incluso cuando bajamos a 5 minutos así lo observamos verdad eso era lo importante de ese cálculo Bueno pues las cosas están funcionando ahora vamos a ver en el el día de hoy porque Bueno desde Europa Sí vamos a conocer la decisión de tipos de interés desde el Banco Central europeo que esperemos que ya sea la última vez que no se toquen y que ya a partir de la semana que viene salir de la sala de espera y llegar hasta Esto entonces bueno la semana va de esta manera vamos a a ver dónde está el precio que está haciendo la semana está así rebotando en los $9,000 no se ha movido los máximos siguen siendo decrecientes en semanal aquí ha habido un 18 de corrección y estamos esperando a ver si la corrección va a acabar con ese porcentaje o si nuevamente volvemos a ver caar el precio y vaya a buscar liquidez a los 56750 Entonces será cuando nos pueden decir que ha tropezado con los 56,000 aquí ya en la serie diaria sabemos En dónde nos estamos moviendo nuestro mapa alcista se completó los dos primeros el tercero como estaba alejado y pues tiene que entrar mucha liquidez ya rápidamente porque estamos a jueves pues fin de semana sabes que normalmente no hay esa liquidez como para que el precio rompa hacia los 76,000 nosotros mantuvimos estos dos objetivos aquel como era más alejado lo dejamos en en bastante duda dijimos Bueno si se llega kis y el precio empieza a apoyarse en los 72700 entonces hablaremos del tercero si no estamos ahora mismo en esa zona neutral saliendo un poco de ella y por la parte de abajo tenemos por si vuelve el precio a los 6761 y los pierde Entonces el primer y el segundo objetivo de la semana pero tal y como va verdad parece que vamos a seguirnos manteniendo en esta zona y ha cerramos de acumulación y de distribución y las distribuciones todavía no han acabado digo que no han acabado porque siguen apareciendo fuertes días de distribución como el del martes bien y el de hoy pues veremos a ver una vez abra Wall Street que ahí es cuando veremos el verdadero sentimiento del mercado de lo que aconteció en el día de ayer con esas actas de la Fed y ese dato de inflación será cuando abra Wall Street que es cuando más volatilidad más liquidez entra en todos los mercados incluido bitcoin vale bueno la serie de horas para buscar pistas seguimos con ese escenario de fase eh de fase creciente de fase alcista han trasladado la presión fíjate có han ido trasladando la presión en estos días pues desde los 67278 la trasladaron al siguiente a los 68000 133 desde ahí a los 69000 y ahora desde los 69000 Aquí también tenemos otro nivel de 4 horas el 61 80 de esa corrección 70392 Por cierto vi también un comentario eh yo voy contestando los vídeos como esto puede ser una duda que si los que son nuevos en el canal llegan y dicen Pues estebana está haciendo esto mal tira los niveles e de tal forma de que el 6180 queda por encima cuando tendría que quedar por debajo y y no en realidad lo que hacemos es una técnica Esto no es no estamos hablando de retroceso fibonaccis estamos hablando de calcular dónde cae el 50% de una fase donde cae el 100% por lo tanto entre el 50 y el 100 tiene que quedar el 6180 eso Es evidente el c está abajo el 100 está arriba el Y entonces el 125 que sería este objetivo y así calculamos objetivos vale bien Bueno pues la presión ha pasado los 70392 en las últimas 12 horas como puedes ver qué es este nivel el 8120 de esa corrección arriba el 100 un poquito más abajo el 8120 si aquí sigue apareciendo liquidez eso podría proporcionar que el precio subiera entonces en intradiario en la jornada hasta aquí vamos a ver con niveles intr diarios promedios de cada día Qué posibilidades hay ya vemos que la primera hora se negoció 70,36 y aquí apareció esa liquidez doble nivel bueno el Eje Central en los 70600 38 todo lo que sea estar por encima de este nivel Que aparezca liquidez negociaría niveles alcistas objetivos alcistas 71 344 698 y el último 7215 Vale entonces si aparece liquidez podríamos ver que sigue creciendo el precio Hasta que llegue aquí y eso conllevaría volver a los 7183 Refugio de mediano plazo y que ahí al llegar estamos hablando de este primer Ob activo alcista volviese a aparecer presión bajista es decir que se vendieran están negociando en intradiario y durante la semana y volvieran a vender vale bueno tenemos que tener presente ese escenario otra cosa es que lo dejen ahí refugiado para que aparezca liquidez mañana y acabamos ya para no enrollar noos demasiado niveles intradiarias los puedes ir mirando 368 etcétera y el último 69,22 este atraería a través al precio justo por debajo de la directriz bajista y al 6180 es decir acabas de ver un mapa intradiario para negociar para tomar tu determinación si lo quieres hacer con esta volatilidad que hay queé llevaría el precio por un lado en caso de que se distribuya 69,000 y que en el caso de que aparezca esa liquidez desde la apertura de la jornada aquí pongamos que llega a los 7183 y aparece esa presión bajista y venden Y entonces podíamos volver caer el precio Hasta los 69,000 Bueno dale una vuelta a todo esto ethereum míralo pegado exactamente en la serie diaria a ese tercer objetivo de toda esta fase de subida 3567 y medio mira aquí al lado que está en 3570 Fíjate cómo está funcionando si logra seguir rompiéndolo Que aparezca liquidez 3700 17.9 es el objetivo miramos con niveles intradiario ya directamente vale a ver qué puede pasar centro esje Central de operaciones 3546 y el último 3617 fíjate como están negociando 3564 vale el antepenúltimo y por la parte de abajo habría hasta 3475 que lo atraería entonces nuevamente a esta zona Vale pues así está etherium hoy nos encontramos en el Canal de bolsas hoy si quieres ahí vuelvo a ver a bitcoin y actualizo la información junto con toda la bolsa acciones etcétera También aspectos fundamentales te deseo que tengas una gran jornada Vámonos a desayunar que ya es hora no sea la hora que tú estás viendo el vídeo lo que te vayas a tomar sea un mate sea sea un desayuno un aperitivo o estés almorzando lo que sea lo que s deseo es que todo sea la próxima vez que nos encontremos más y mejor\n"
     ]
    }
   ],
   "source": [
    "print(f\"Video de: {transcripcion[0].metadata['author']}\"+\n",
    "       f\" con un tamaño de {transcripcion[0].metadata['length']} segundos\")\n",
    "print(f\"Título: {transcripcion[0].metadata['title']}\")\n",
    "print(\"\")\n",
    "print(transcripcion[0].page_content)"
   ]
  },
  {
   "cell_type": "code",
   "execution_count": 99,
   "id": "cbc89514",
   "metadata": {},
   "outputs": [],
   "source": [
    "text_splitter = RecursiveCharacterTextSplitter(chunk_size=4000, chunk_overlap=200)"
   ]
  },
  {
   "cell_type": "code",
   "execution_count": 100,
   "id": "a1eec70f",
   "metadata": {},
   "outputs": [],
   "source": [
    "textos = text_splitter.split_documents(transcripcion)"
   ]
  },
  {
   "cell_type": "code",
   "execution_count": 101,
   "id": "32d3d7ae",
   "metadata": {},
   "outputs": [
    {
     "data": {
      "text/plain": [
       "4"
      ]
     },
     "execution_count": 101,
     "metadata": {},
     "output_type": "execute_result"
    }
   ],
   "source": [
    "len(textos)"
   ]
  },
  {
   "cell_type": "code",
   "execution_count": 102,
   "id": "0b815f4f",
   "metadata": {},
   "outputs": [
    {
     "data": {
      "text/plain": [
       "Document(page_content='de ese cálculo Bueno pues las cosas están funcionando ahora vamos a ver en el el día de hoy porque Bueno desde Europa Sí vamos a conocer la decisión de tipos de interés desde el Banco Central europeo que esperemos que ya sea la última vez que no se toquen y que ya a partir de la semana que viene salir de la sala de espera y llegar hasta Esto entonces bueno la semana va de esta manera vamos a a ver dónde está el precio que está haciendo la semana está así rebotando en los $9,000 no se ha movido los máximos siguen siendo decrecientes en semanal aquí ha habido un 18 de corrección y estamos esperando a ver si la corrección va a acabar con ese porcentaje o si nuevamente volvemos a ver caar el precio y vaya a buscar liquidez a los 56750 Entonces será cuando nos pueden decir que ha tropezado con los 56,000 aquí ya en la serie diaria sabemos En dónde nos estamos moviendo nuestro mapa alcista se completó los dos primeros el tercero como estaba alejado y pues tiene que entrar mucha liquidez ya rápidamente porque estamos a jueves pues fin de semana sabes que normalmente no hay esa liquidez como para que el precio rompa hacia los 76,000 nosotros mantuvimos estos dos objetivos aquel como era más alejado lo dejamos en en bastante duda dijimos Bueno si se llega kis y el precio empieza a apoyarse en los 72700 entonces hablaremos del tercero si no estamos ahora mismo en esa zona neutral saliendo un poco de ella y por la parte de abajo tenemos por si vuelve el precio a los 6761 y los pierde Entonces el primer y el segundo objetivo de la semana pero tal y como va verdad parece que vamos a seguirnos manteniendo en esta zona y ha cerramos de acumulación y de distribución y las distribuciones todavía no han acabado digo que no han acabado porque siguen apareciendo fuertes días de distribución como el del martes bien y el de hoy pues veremos a ver una vez abra Wall Street que ahí es cuando veremos el verdadero sentimiento del mercado de lo que aconteció en el día de ayer con esas actas de la Fed y ese dato de inflación será cuando abra Wall Street que es cuando más volatilidad más liquidez entra en todos los mercados incluido bitcoin vale bueno la serie de horas para buscar pistas seguimos con ese escenario de fase eh de fase creciente de fase alcista han trasladado la presión fíjate có han ido trasladando la presión en estos días pues desde los 67278 la trasladaron al siguiente a los 68000 133 desde ahí a los 69000 y ahora desde los 69000 Aquí también tenemos otro nivel de 4 horas el 61 80 de esa corrección 70392 Por cierto vi también un comentario eh yo voy contestando los vídeos como esto puede ser una duda que si los que son nuevos en el canal llegan y dicen Pues estebana está haciendo esto mal tira los niveles e de tal forma de que el 6180 queda por encima cuando tendría que quedar por debajo y y no en realidad lo que hacemos es una técnica Esto no es no estamos hablando de retroceso fibonaccis estamos hablando de calcular dónde cae el 50% de una fase donde cae el 100% por lo tanto entre el 50 y el 100 tiene que quedar el 6180 eso Es evidente el c está abajo el 100 está arriba el Y entonces el 125 que sería este objetivo y así calculamos objetivos vale bien Bueno pues la presión ha pasado los 70392 en las últimas 12 horas como puedes ver qué es este nivel el 8120 de esa corrección arriba el 100 un poquito más abajo el 8120 si aquí sigue apareciendo liquidez eso podría proporcionar que el precio subiera entonces en intradiario en la jornada hasta aquí vamos a ver con niveles intr diarios promedios de cada día Qué posibilidades hay ya vemos que la primera hora se negoció 70,36 y aquí apareció esa liquidez doble nivel bueno el Eje Central en los 70600 38 todo lo que sea estar por encima de este nivel Que aparezca liquidez negociaría niveles alcistas objetivos alcistas 71 344 698 y el último 7215 Vale entonces si aparece liquidez podríamos ver que sigue creciendo el precio Hasta que llegue aquí y eso conllevaría volver a los 7183 Refugio de', metadata={'source': 'XCJzOSyLCIo', 'title': 'QUÉ HARÁ BITCOIN HOY 11/4/24 08:20 ANÁLISIS TÉCNICO BTC-ETH Esteban Pérez', 'description': 'Unknown', 'view_count': 6446, 'thumbnail_url': 'https://i.ytimg.com/vi/XCJzOSyLCIo/hq720.jpg', 'publish_date': '2024-04-10 00:00:00', 'length': 1054, 'author': 'Bitcoin hoy'})"
      ]
     },
     "execution_count": 102,
     "metadata": {},
     "output_type": "execute_result"
    }
   ],
   "source": [
    "textos[2]"
   ]
  },
  {
   "cell_type": "code",
   "execution_count": 106,
   "id": "682b9838",
   "metadata": {},
   "outputs": [],
   "source": [
    "prompt_template = \"\"\"Escribe un resumen conciso de lo siguiente extrayendo la información clave:\n",
    "Text: {text}\n",
    "Resumen:\"\"\"\n",
    "prompt_inicial = PromptTemplate(template=prompt_template, input_variables=['text'])"
   ]
  },
  {
   "cell_type": "code",
   "execution_count": 107,
   "id": "fd8bb552",
   "metadata": {},
   "outputs": [],
   "source": [
    "refine_template = '''\n",
    "    Tu trabajo consiste en elaborar un resumen final.\n",
    "    He proporcionado un resumen existente hasta cierto punto: {existing_answer}.\n",
    "    Por favor, perfeccione el resumen existente con algo más de contexto a continuación.\n",
    "    ------------\n",
    "    {text}\n",
    "    ------------\n",
    "    Comience el resumen final con una \"Introducción\" que ofrezca una visión general del tema seguido\n",
    "    por los puntos más importantes (\"Bullet Points\"). Termina el resumen con una conclusión.\n",
    "'''\n",
    "refine_prompt = PromptTemplate(\n",
    "    template=refine_template,\n",
    "    input_variables=['existing_answer', 'text'])"
   ]
  },
  {
   "cell_type": "code",
   "execution_count": 108,
   "id": "d7999d3d",
   "metadata": {},
   "outputs": [],
   "source": [
    "chain = load_summarize_chain(\n",
    "    llm=llm,\n",
    "    chain_type='refine',\n",
    "    question_prompt=prompt_inicial,\n",
    "    refine_prompt=refine_prompt,\n",
    "    return_intermediate_steps=False\n",
    ")\n"
   ]
  },
  {
   "cell_type": "code",
   "execution_count": 109,
   "id": "d0caeac9",
   "metadata": {},
   "outputs": [],
   "source": [
    "resumen = chain.run(textos)"
   ]
  },
  {
   "cell_type": "code",
   "execution_count": 110,
   "id": "403930ee",
   "metadata": {},
   "outputs": [
    {
     "name": "stdout",
     "output_type": "stream",
     "text": [
      "Introducción:\n",
      "El precio de Bitcoin ha mostrado una fluctuación dentro de un rango específico, y se espera una mayor volatilidad debido al evento del halving. Además, existen preocupaciones sobre la inflación en Estados Unidos y la incertidumbre en las tasas de interés. En Europa, se espera la decisión de tipos de interés del Banco Central Europeo.\n",
      "\n",
      "Bullet Points:\n",
      "- El precio de Bitcoin se ha mantenido en un rango entre los 7278 y los 6761.\n",
      "- Se advierte sobre la volatilidad previa al evento del halving y la posibilidad de caídas significativas.\n",
      "- Los inversores a largo plazo están saliendo del mercado, lo que podría indicar una toma de ganancias.\n",
      "- El halving de abril podría aumentar las restricciones de suministro de Bitcoin.\n",
      "- Existe preocupación por la inflación en Estados Unidos y la incertidumbre sobre las tasas de interés.\n",
      "- En Europa, se espera la decisión de tipos de interés del Banco Central Europeo.\n",
      "\n",
      "Conclusión:\n",
      "En resumen, el precio de Bitcoin ha mostrado una fluctuación dentro de un rango específico, y se espera una mayor volatilidad debido al evento del halving. Los inversores a largo plazo están saliendo del mercado, lo que podría indicar una toma de ganancias y posibles caídas significativas. Además, existen preocupaciones sobre la inflación en Estados Unidos y la incertidumbre en las tasas de interés. En Europa, se espera la decisión de tipos de interés del Banco Central Europeo. Se sugiere estar atentos a los desarrollos en el mercado y analizar los análisis técnicos para obtener una mejor comprensión de la situación actual.\n"
     ]
    }
   ],
   "source": [
    "print(resumen)"
   ]
  }
 ],
 "metadata": {
  "kernelspec": {
   "display_name": "Python 3 (ipykernel)",
   "language": "python",
   "name": "python3"
  },
  "language_info": {
   "codemirror_mode": {
    "name": "ipython",
    "version": 3
   },
   "file_extension": ".py",
   "mimetype": "text/x-python",
   "name": "python",
   "nbconvert_exporter": "python",
   "pygments_lexer": "ipython3",
   "version": "3.11.1"
  }
 },
 "nbformat": 4,
 "nbformat_minor": 5
}
